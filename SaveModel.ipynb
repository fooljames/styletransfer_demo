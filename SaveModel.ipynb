{
 "cells": [
  {
   "cell_type": "code",
   "execution_count": null,
   "metadata": {
    "collapsed": true
   },
   "outputs": [],
   "source": [
    "import json\n",
    "import tensorflow as tf\n",
    "import functools\n",
    "from tensorflow.python import saved_model\n",
    "from magenta.models.image_stylization import model, ops\n",
    "\n",
    "def build_prediction_graph():\n",
    "    graph = tf.Graph()\n",
    "    with graph.as_default():\n",
    "        \n",
    "        image_byte = tf.placeholder(tf.string, shape=[None])\n",
    "        \n",
    "        images = tf.map_fn(\n",
    "            functools.partial(tf.image.decode_jpeg, channels=3),\n",
    "            image_byte,\n",
    "            dtype=tf.uint8\n",
    "        )\n",
    "        \n",
    "        image_floats = tf.cast(images, tf.float32) / 255.0\n",
    "        \n",
    "        image_floats = tf.reshape(image_floats, shape=[-1, 384, 512, 3])\n",
    "\n",
    "        stylized_images = model.transform(image_floats,\n",
    "            normalizer_params={\n",
    "                'labels': tf.constant([1]),\n",
    "                'num_categories': 32,\n",
    "                'center': True,\n",
    "                'scale': True})\n",
    "        \n",
    "        output_images = tf.cast(stylized_images * 255.0, tf.uint8)\n",
    "\n",
    "        images = tf.map_fn(tf.image.encode_jpeg, output_images, dtype=tf.string)\n",
    "        output = tf.encode_base64(images)\n",
    "\n",
    "\n",
    "        inputs_info = {\n",
    "            'image_byte': saved_model.utils.build_tensor_info(image_byte)\n",
    "        }\n",
    "\n",
    "        outputs_info = {\n",
    "            'output_image': saved_model.utils.build_tensor_info(output)\n",
    "        }\n",
    "\n",
    "    return graph, inputs_info, outputs_info"
   ]
  },
  {
   "cell_type": "code",
   "execution_count": null,
   "metadata": {},
   "outputs": [],
   "source": [
    "graph, inputs_info, outputs_info = build_prediction_graph()\n",
    "\n",
    "signature_def = saved_model.signature_def_utils.build_signature_def(\n",
    "    inputs=inputs_info,\n",
    "    outputs=outputs_info,\n",
    "    method_name=saved_model.signature_constants.PREDICT_METHOD_NAME)\n",
    "\n",
    "exporter = saved_model.builder.SavedModelBuilder('savemodel/demo')\n",
    "checkpoint = 'checkpoints/multistyle-pastiche-generator-varied.ckpt'\n",
    "\n",
    "with tf.Session(graph=graph) as session:\n",
    "    saver = tf.train.Saver()\n",
    "    session.run([tf.local_variables_initializer(), tf.tables_initializer()])\n",
    "    saver.restore(session, checkpoint)\n",
    "    exporter.add_meta_graph_and_variables(\n",
    "        session,\n",
    "        tags=[saved_model.tag_constants.SERVING],\n",
    "        signature_def_map={\n",
    "            saved_model.signature_constants.DEFAULT_SERVING_SIGNATURE_DEF_KEY:\n",
    "                signature_def\n",
    "        },)\n",
    "\n",
    "exporter.save()"
   ]
  }
 ],
 "metadata": {
  "kernelspec": {
   "display_name": "Python 3",
   "language": "python",
   "name": "python3"
  },
  "language_info": {
   "codemirror_mode": {
    "name": "ipython",
    "version": 3
   },
   "file_extension": ".py",
   "mimetype": "text/x-python",
   "name": "python",
   "nbconvert_exporter": "python",
   "pygments_lexer": "ipython3",
   "version": "3.6.1"
  }
 },
 "nbformat": 4,
 "nbformat_minor": 2
}
