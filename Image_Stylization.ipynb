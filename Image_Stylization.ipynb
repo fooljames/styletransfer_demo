{
 "cells": [
  {
   "cell_type": "code",
   "execution_count": null,
   "metadata": {
    "collapsed": true
   },
   "outputs": [],
   "source": [
    "import matplotlib.pyplot as plt\n",
    "\n",
    "import numpy as np\n",
    "import tensorflow as tf\n",
    "\n",
    "from magenta.models.image_stylization import image_utils\n",
    "from magenta.models.image_stylization import model\n",
    "\n",
    "input_image = image_utils.load_np_image('evaluation_images/bkk.jpg')"
   ]
  },
  {
   "cell_type": "code",
   "execution_count": null,
   "metadata": {},
   "outputs": [],
   "source": [
    "_, sp = plt.subplots(figsize=(10, 10))\n",
    "\n",
    "sp.imshow(input_image)\n",
    "sp.set_title('Input image')\n",
    "\n",
    "plt.show()"
   ]
  },
  {
   "cell_type": "code",
   "execution_count": null,
   "metadata": {
    "collapsed": true,
    "scrolled": false
   },
   "outputs": [],
   "source": [
    "# download checkpoint here: http://download.magenta.tensorflow.org/models/multistyle-pastiche-generator-monet.ckpt\n",
    "checkpoint = 'checkpoints/multistyle-pastiche-generator-varied.ckpt'\n",
    "\n",
    "num_styles = 32  # Number of images in checkpoint file.\n",
    "\n",
    "which_styles = 1 # Choose the style\n",
    "\n",
    "image = np.expand_dims(input_image, 0)\n",
    "\n",
    "with tf.Session() as sess:\n",
    "    stylized_images = model.transform(image,\n",
    "        normalizer_params={\n",
    "            'labels': tf.constant(np.array([which_styles])),\n",
    "            'num_categories': num_styles,\n",
    "            'center': True,\n",
    "            'scale': True})\n",
    "    model_saver = tf.train.Saver()\n",
    "    model_saver.restore(sess, checkpoint)\n",
    "    stylized_images = stylized_images.eval()"
   ]
  },
  {
   "cell_type": "code",
   "execution_count": null,
   "metadata": {},
   "outputs": [],
   "source": [
    "_, sp = plt.subplots(figsize=(10, 10))\n",
    "\n",
    "sp.imshow(stylized_images[0])\n",
    "sp.set_title('Style Transfer')\n",
    "\n",
    "plt.show()"
   ]
  }
 ],
 "metadata": {
  "celltoolbar": "Raw Cell Format",
  "kernelspec": {
   "display_name": "Python 3",
   "language": "python",
   "name": "python3"
  },
  "language_info": {
   "codemirror_mode": {
    "name": "ipython",
    "version": 3
   },
   "file_extension": ".py",
   "mimetype": "text/x-python",
   "name": "python",
   "nbconvert_exporter": "python",
   "pygments_lexer": "ipython3",
   "version": "3.6.1"
  }
 },
 "nbformat": 4,
 "nbformat_minor": 1
}
