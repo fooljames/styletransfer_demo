{
 "cells": [
  {
   "cell_type": "code",
   "execution_count": null,
   "metadata": {
    "collapsed": true
   },
   "outputs": [],
   "source": [
    "import base64\n",
    "import io\n",
    "import json\n",
    "from PIL import Image\n",
    "import tensorflow as tf"
   ]
  },
  {
   "cell_type": "code",
   "execution_count": null,
   "metadata": {
    "collapsed": true
   },
   "outputs": [],
   "source": [
    "img = Image.open('evaluation_images/bkk.jpg')\n",
    "image_byte_arr = io.BytesIO()\n",
    "img.save(image_byte_arr, \"JPEG\")\n",
    "image_byte_arr = image_byte_arr.getvalue()"
   ]
  },
  {
   "cell_type": "code",
   "execution_count": null,
   "metadata": {
    "collapsed": true
   },
   "outputs": [],
   "source": [
    "import base64\n",
    "from oauth2client.client import GoogleCredentials\n",
    "from googleapiclient import discovery\n",
    "\n",
    "credentials = GoogleCredentials.get_application_default()\n",
    "\n",
    "# Build a representation of the Cloud ML API.\n",
    "ml = discovery.build('ml', 'v1', credentials=credentials)\n",
    "\n",
    "project = 'artful-reactor-182004'\n",
    "model = 'StyleTransfer'\n",
    "version = 'demov10'\n",
    "\n",
    "name = 'projects/{}/models/{}/versions/{}'.format(project, model, version)\n",
    "\n",
    "response = ml.projects().predict(\n",
    "    name=name,\n",
    "    body={'instances': {\"image_byte\": {\"b64\": base64.b64encode(image_byte_arr)}}}\n",
    ").execute()\n",
    "\n",
    "if 'error' in response:\n",
    "    raise RuntimeError(response['error'])"
   ]
  },
  {
   "cell_type": "code",
   "execution_count": null,
   "metadata": {
    "collapsed": true
   },
   "outputs": [],
   "source": [
    "res = response['predictions'][0]['output_image']\n",
    "\n",
    "sess = tf.InteractiveSession()\n",
    "output_image =  tf.image.decode_jpeg(tf.decode_base64(res), channels=3).eval() "
   ]
  },
  {
   "cell_type": "code",
   "execution_count": null,
   "metadata": {},
   "outputs": [],
   "source": [
    "import matplotlib.pyplot as plt\n",
    "\n",
    "_, sp = plt.subplots(figsize=(10, 10))\n",
    "\n",
    "sp.imshow(output_image)\n",
    "sp.set_title('Output image')\n",
    "\n",
    "plt.show()"
   ]
  }
 ],
 "metadata": {
  "kernelspec": {
   "display_name": "Python 3",
   "language": "python",
   "name": "python3"
  },
  "language_info": {
   "codemirror_mode": {
    "name": "ipython",
    "version": 3
   },
   "file_extension": ".py",
   "mimetype": "text/x-python",
   "name": "python",
   "nbconvert_exporter": "python",
   "pygments_lexer": "ipython3",
   "version": "3.6.1"
  }
 },
 "nbformat": 4,
 "nbformat_minor": 2
}
